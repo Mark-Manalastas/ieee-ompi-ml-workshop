{
 "cells": [
  {
   "cell_type": "markdown",
   "metadata": {
    "nbpresent": {
     "id": "180f7798-0b7e-4aba-adf0-cc64adce9c9a"
    }
   },
   "source": [
    "# Machine Learning: An Overview\n",
    "\n",
    "Table of contents:\n",
    "\n",
    "- [Why Machine Learning?](#why-machine-learning)\n",
    "- [How do we assess learning?](#how-do-we-assess-learning)\n",
    "- [Types of Learning](#types-of-learning)\n",
    "- [Foundations of Machine Learning](#foundations-of-machine-learning)\n",
    "\n",
    "<span style=\"color:blue;\">**Goal:**</span> Teach the machine to learn based on the input they receive from the Environment.\n",
    "\n",
    "> Tom Mitchell (1997) defines machine learning as the ability for a machine to gain expertise on a particular task based on experience."
   ]
  },
  {
   "cell_type": "markdown",
   "metadata": {},
   "source": [
    "<a id=\"why-machine-learning\"></a>"
   ]
  },
  {
   "cell_type": "markdown",
   "metadata": {},
   "source": [
    "## Why Machine Learning?\n",
    "- <span style=\"color:blue;\">**Solving complexity:**</span> Excels in building computational engines to solve task that cannot possibly be explicitly programmed.\n",
    "- Examples include natural language understanding, speech recognition and facial recognition."
   ]
  },
  {
   "cell_type": "markdown",
   "metadata": {},
   "source": [
    "<a id=\"how-do-we-assess-learning\"></a>"
   ]
  },
  {
   "cell_type": "markdown",
   "metadata": {
    "nbpresent": {
     "id": "368cb5d4-95e5-47dd-8126-0586936b20e9"
    }
   },
   "source": [
    "## How do we assess learning?\n",
    "Assume a teacher teaches a physics class for three months, and at the end of the lecture sessions, the teacher administers a test to ascertain if the student has learned.\n",
    "\n",
    "Let us consider two different sub-plots:\n",
    "1. The teacher tests the student with an exact word for word replica of questions that he used as examples while teaching.\n",
    "2. The teacher evaluates the student with an entirely different but similar problem set based on the principles taught in class.\n",
    "In which of the subplots can the teacher be confident that the student has learned?\n",
    "\n",
    "**Norms of Learning**\n",
    "1. <span style=\"color:blue;\">**Memorization:**</span> Memorization is the act of mastering and storing a pattern for future recollection. Therefore it is inaccurate to use training samples to carry out learning evaluation. In machine learning, this is also known as data snooping.\n",
    "2. <span style=\"color:blue;\">**Generalization:**</span> The ability for the student to extrapolate using the principles taught in class to solve new examples is known as Generalization.\n",
    "Hence, we can conclude that learning is the ability to generalize to new cases."
   ]
  },
  {
   "cell_type": "markdown",
   "metadata": {},
   "source": [
    "<a id=\"types-of-learning\"></a>"
   ]
  },
  {
   "cell_type": "markdown",
   "metadata": {
    "nbpresent": {
     "id": "9b0c9b26-14d8-49d7-9e6d-2f667c451b36"
    }
   },
   "source": [
    "## Types of Learning\n",
    "Machine Learning can be categorized into (at least) three components based on its approach.\n",
    "\n",
    "The three predominant schemes of learning are:\n",
    "- Supervised,\n",
    "- Unsupervised, and\n",
    "- Reinforcement Learning\n",
    "\n",
    "**Supervised Learning**\n",
    "- Each data point is associated with a label\n",
    "- <span style=\"color:blue;\">**Goal:**</span> Teach the computer using this labeled data.\n",
    "- <span style=\"color:blue;\">**Learning:**</span> The computer learns the patterns from data.\n",
    "- <span style=\"color:blue;\">**Inference:**</span> Makes decisions about \"unknown\" samples.\n",
    "\n",
    "<p align=\"center\">\n",
    "<img src=\"img/supervised_learning.png\" align=\"middle\" alt=\"Supervised Learning.\" height=50% width=50% />\n",
    "</p>\n",
    "\n",
    "**Unsupervised Learning**\n",
    "- No corresponding labels - no guidance.\n",
    "- <span style=\"color:blue;\">**Goal:**</span> Computer attempts to determine data's unknown structure.\n",
    "- <span style=\"color:blue;\">**Scheme:**</span> By \"grouping\" similar samples together adaptively.\n",
    "\n",
    "<p align=\"center\">\n",
    "<img src=\"img/unsupervised_learning.png\" align=\"middle\" alt=\"Unsupervised Learning.\" height=50% width=50% />\n",
    "</p>\n",
    "\n",
    "**Reinforcement Learning**\n",
    "- Reinforcement Learning: Agent interacts with an Environment.\n",
    "- <span style=\"color:blue;\">**Scheme:**</span> A \"feedback configuration\".\n",
    "- <span style=\"color:blue;\">**Method:**</span> Chooses an action from the set of actions/\n",
    "    - <span style=\"color:blue;\">**Learning:**</span> Based on the responses from the Environment.\n",
    "\n",
    "<p align=\"center\">\n",
    "<img src=\"img/reinforcement_learning.png\" align=\"middle\" alt=\"Reinforcement Learning.\" height=50% width=50% />\n",
    "</p>"
   ]
  },
  {
   "cell_type": "markdown",
   "metadata": {},
   "source": [
    "<a id=\"types-of-learning\"></a>"
   ]
  },
  {
   "cell_type": "markdown",
   "metadata": {},
   "source": [
    "## Foundations of Machine Learning\n",
    "The foundational disciplines that contribute to the field of machine learning are:\n",
    "\n",
    "- Statistics,\n",
    "- Mathematics,\n",
    "- The Theory of Computation, and to a considerable extent\n",
    "- Behavioral Psychology\n",
    "\n",
    "The diagram below visually shows the interaction between these fields.\n",
    "\n",
    "<p align=\"center\">\n",
    "<img src=\"img/foundations_ml.png\" align=\"middle\" alt=\"Foundations of Machine Learning.\" height=40% width=40% />\n",
    "</p>\n"
   ]
  },
  {
   "cell_type": "markdown",
   "metadata": {},
   "source": [
    "## A Formal Model for Machine Learning Theory\n",
    "\n",
    "**The learner’s input:**\n",
    "- Domain set: An arbitrary set, $\\sum_{\\forall i}{x_i^{2}}$."
   ]
  },
  {
   "cell_type": "code",
   "execution_count": null,
   "metadata": {},
   "outputs": [],
   "source": []
  }
 ],
 "metadata": {
  "kernelspec": {
   "display_name": "Python [conda env:pydl]",
   "language": "python",
   "name": "conda-env-pydl-py"
  },
  "language_info": {
   "codemirror_mode": {
    "name": "ipython",
    "version": 3
   },
   "file_extension": ".py",
   "mimetype": "text/x-python",
   "name": "python",
   "nbconvert_exporter": "python",
   "pygments_lexer": "ipython3",
   "version": "3.5.6"
  }
 },
 "nbformat": 4,
 "nbformat_minor": 2
}
