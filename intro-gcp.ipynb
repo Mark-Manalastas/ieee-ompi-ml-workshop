{
 "cells": [
  {
   "cell_type": "markdown",
   "metadata": {},
   "source": [
    "# Introduction to Google Cloud Platform\n",
    "\n",
    "Table of contents:\n",
    "\n",
    "- [The Computational Cost of Building ML Products](#the-computational-cost-of-building-ml-products)\n",
    "- [Why GCP](#why-gcp)\n",
    "- [GCP Product and Service Offerings](#gcp-product-and-service-offerings)\n",
    "  - [Cloud Compute](#cloud-compute)\n",
    "  - [Cloud Storage](#cloud-storage)\n",
    "  - [Big Data/ Analytics](#big-data-analytics)\n",
    "  - [Cloud AI](#cloud-ai)\n",
    "\n",
    "\n",
    "Google Cloud Platform (GCP) offers a wide range of services for securing, storing, serving and analyzing data. These cloud services form a secure cloud perimeter for data, where different operations and transformations can be carried out on the data without it ever leaving the cloud ecosystem.\n",
    "\n",
    "GCP is a simple, yet powerful, and cost effective cloud option for building large-scale machine learning models. It boasts a rich set of products to simplify the process of performaing large-scale data analytics, model training and model deployment for inference on the cloud."
   ]
  },
  {
   "cell_type": "markdown",
   "metadata": {},
   "source": [
    "<a id=\"the-computational-cost-of-building-ml-products\"></a>"
   ]
  },
  {
   "cell_type": "markdown",
   "metadata": {},
   "source": [
    "## The Computational Cost of Building ML Products\n",
    "- <span style=\"color:blue; font-weight:bold;\">Long training times:</span> Running a suite of an experiment on a decent CPU (e.g., a QuadCore i7, with 8GB RAM) can take upwards of 3 hours to days and even weeks for the algorithms to converge and produce a result set.\n",
    "- <span style=\"color:blue; font-weight:bold;\">ML modeling is iterative:</span> This computational lag is especially dire because getting a decent result requires several iterations of experiments either to tune the different parameters of the algorithm or to carry out various forms of feature engineering to achieve the desired classifier/ model that generalizes \"optimally\" to new examples.\n",
    "- <span style=\"color:blue; font-weight:bold;\">High-performant computer hardware is expensive:</span> On-premise high-end machines are expensive. Moreover, the technical skills required to build a cluster of commodity machines running a Spark/Hadoop cluster might be overwhelming and even sometimes a distraction from the ML task.\n",
    "\n",
    "<p align=\"center\">\n",
    "<img src=\"ieee-ompi/long_processing_times.png\" align=\"middle\" alt=\"Long processing times.\" height=30% width=30% />\n",
    "</p>"
   ]
  },
  {
   "cell_type": "markdown",
   "metadata": {},
   "source": [
    "<a id=\"why-gcp\"></a>"
   ]
  },
  {
   "cell_type": "markdown",
   "metadata": {},
   "source": [
    "## Why GCP?\n",
    "- <span style=\"color:blue; font-weight:bold;\">Technology leadership:</span> Google is a top technology leader in the internet space with a range of top web products such as Gmail, Youtube, and Google Maps to mention just a few. The aforementioned products generate, store and process tons of Terabytes of data each day from internet users around the world.\n",
    "- <span style=\"color:blue; font-weight:bold;\">Taming big data:</span> To deal with this significant data, Google have massive investments in processing and storage research and infrastructure. Google as of today boasts some of the most impressive data center designs in the world to support their computational demands and computing services.\n",
    "- <span style=\"color:blue; font-weight:bold;\">High-speed computation:</span> Google Cloud Platform makes available to the public lighting fast computational speed (it is getting faster!) and high-tech storage capabilities with extremely low latency (meaning minimal delays in data transfer) and high throughput (can be naively described as the time taken to complete a job). This is all glued together by state of the art networking technology/ infrastructure.\n",
    "- <span style=\"color:blue; font-weight:bold;\">Ease of use:</span> The storage and processing platform on which are built products like Gmail, Google Docs and the like, are now accessible to the public and available for everyone to utilize.\n",
    "\n",
    "<p align=\"center\">\n",
    "<img src=\"ieee-ompi/google-cloud-platform.png\" align=\"middle\" alt=\"Google Cloud Platform.\" height=60% width=60% />\n",
    "</p>"
   ]
  },
  {
   "cell_type": "markdown",
   "metadata": {},
   "source": [
    "<a id=\"gcp-product-and-service-offerings\"></a>"
   ]
  },
  {
   "cell_type": "markdown",
   "metadata": {},
   "source": [
    "## GCP Product and Service Offerings"
   ]
  },
  {
   "cell_type": "markdown",
   "metadata": {},
   "source": [
    "<a id=\"cloud-compute\"></a>"
   ]
  },
  {
   "cell_type": "markdown",
   "metadata": {},
   "source": [
    "### Cloud Compute\n",
    "Virtual machines running on Google’s data centers around the world. They include:\n",
    "- <span style=\"color:blue; font-weight:bold;\"><a href=\"https://cloud.google.com/compute/\">Compute engine:</a></span> virtual computing instances for custom processing.\n",
    "- <span style=\"color:blue; font-weight:bold;\"><a href=\"https://cloud.google.com/appengine/\">App engine:</a></span> a cloud managed platform for developing and deploying web, mobile, and IoT app.\n",
    "- <span style=\"color:blue; font-weight:bold;\"><a href=\"https://cloud.google.com/kubernetes-engine/\">Kubernetes engine:</a></span> orchestration manager for custom docker containers based on Kubernetes.\n",
    "- <span style=\"color:blue; font-weight:bold;\"><a href=\"https://cloud.google.com/container-registry/\">Container registry:</a></span> private container storage.\n",
    "- <span style=\"color:blue; font-weight:bold;\"><a href=\"https://cloud.google.com/functions/\">Serverless cloud functions:</a></span> cloud-based functions to connect or extend cloud services.\n",
    "\n",
    "<p align=\"center\">\n",
    "<img src=\"ieee-ompi/cloud-compute.png\" align=\"middle\" alt=\"Cloud Compute.\" height=80% width=80% />\n",
    "</p>"
   ]
  },
  {
   "cell_type": "markdown",
   "metadata": {},
   "source": [
    "<a id=\"cloud-storage\"></a>"
   ]
  },
  {
   "cell_type": "markdown",
   "metadata": {},
   "source": [
    "### Cloud Storage\n",
    "Provide scalable and high-availability storage options for live and archival data within the cloud perimeter. Cloud storage is set-up to cater for elastic storage demands. The cloud storage products include:\n",
    "- <span style=\"color:blue; font-weight:bold;\"><a href=\"https://cloud.google.com/storage/\">Cloud storage:</a></span> general purpose storage platform).\n",
    "- <span style=\"color:blue; font-weight:bold;\"><a href=\"https://cloud.google.com/sql/\">Cloud SQL:</a></span> cloud-managed MySQL and Postgre SQL.\n",
    "- <span style=\"color:blue; font-weight:bold;\"><a href=\"https://cloud.google.com/bigtable/\">Cloud BigTable:</a></span> NoSQL petabyte-sized storage.\n",
    "- <span style=\"color:blue; font-weight:bold;\"><a href=\"https://cloud.google.com/spanner/\">Cloud Spanner:</a></span> scalable/ high availability transactional storage.\n",
    "- <span style=\"color:blue; font-weight:bold;\"><a href=\"https://cloud.google.com/datastore/\">Cloud Datastore:</a></span> transactional NoSQL database.\n",
    "- <span style=\"color:blue; font-weight:bold;\"><a href=\"https://cloud.google.com/persistent-disk/\">Persistent disks:</a></span> block-storage for Virtual Machines.\n",
    "\n",
    "<p align=\"center\">\n",
    "<img src=\"ieee-ompi/cloud-storage.png\" align=\"middle\" alt=\"Cloud Storage.\" height=80% width=80% />\n",
    "</p>"
   ]
  },
  {
   "cell_type": "markdown",
   "metadata": {},
   "source": [
    "<a id=\"big-data-analytics\"></a>"
   ]
  },
  {
   "cell_type": "markdown",
   "metadata": {},
   "source": [
    "### Big Data/ Analytics\n",
    "Offers a range of serverless big data and analytics solutions for data warehousing, stream, and batch analytics, cloud-managed Hadoop ecosystems, cloud-based messaging systems and data exploration. The big-data services include:\n",
    "- <span style=\"color:blue; font-weight:bold;\"><a href=\"https://cloud.google.com/bigquery/\">Cloud BigQuery:</a></span> serverless analytics/ data warehousing platform.\n",
    "- <span style=\"color:blue; font-weight:bold;\"><a href=\"https://cloud.google.com/dataproc/\">Cloud Dataproc:</a></span> fully-managed Hadoop/ Apache Spark infrastructure.\n",
    "- <span style=\"color:blue; font-weight:bold;\"><a href=\"https://cloud.google.com/dataflow/\">Cloud Dataflow:</a></span> Batch/ Stream data transformation/ processing.\n",
    "- <span style=\"color:blue; font-weight:bold;\"><a href=\"https://cloud.google.com/dataprep/\">Cloud Dataprep:</a></span> serverless infrastructure for cleaning unstructured/ structured data for analytics.\n",
    "- <span style=\"color:blue; font-weight:bold;\"><a href=\"https://datastudio.google.com/\">Cloud Datastudio:</a></span> data visualization/ report dashboards.\n",
    "- <span style=\"color:blue; font-weight:bold;\"><a href=\"https://cloud.google.com/datalab/\">Cloud Datalab:</a></span> managed Jupyter notebook for machine learning/ data analytics.\n",
    "- <span style=\"color:blue; font-weight:bold;\"><a href=\"https://cloud.google.com/pubsub/\">Cloud Pub/Sub:</a></span> serverless messaging infrastructure.\n",
    "\n",
    "<p align=\"center\">\n",
    "<img src=\"ieee-ompi/big-data-analytics.png\" align=\"middle\" alt=\"Big Data/ Analytics.\" height=80% width=80% />\n",
    "</p>"
   ]
  },
  {
   "cell_type": "markdown",
   "metadata": {},
   "source": [
    "<a id=\"cloud-ai\"></a>"
   ]
  },
  {
   "cell_type": "markdown",
   "metadata": {},
   "source": [
    "### Cloud AI\n",
    "Leverage pre-trained models for custom artificial intelligence tasks through the use of REST APIs. This is the same technoogy stack used by Google applications such as Google Translate, and Photos. Google Cloud AI services include:\n",
    "- <span style=\"color:blue; font-weight:bold;\"><a href=\"https://cloud.google.com/automl/\">Cloud AutoML:</span> train custom machine learning models leveraging transfer learning.\n",
    "- <span style=\"color:blue; font-weight:bold;\"><a href=\"https://cloud.google.com/ml-engine/\">Cloud Machine Learning Engine:</span> for large-scale distributed training and deployment of machine learning models.\n",
    "- <span style=\"color:blue; font-weight:bold;\"><a href=\"https://cloud.google.com/natural-language/\">Cloud Natural Language:</span> extract/ analyze text from documents.\n",
    "- <span style=\"color:blue; font-weight:bold;\"><a href=\"https://cloud.google.com/speech-to-text/\">Cloud Speech API:</span> transcribe audio to text.\n",
    "- <span style=\"color:blue; font-weight:bold;\"><a href=\"https://cloud.google.com/vision/\">Cloud Vision API:</span> classification/ segmentation of images.\n",
    "- <span style=\"color:blue; font-weight:bold;\"><a href=\"https://cloud.google.com/translate/\">Cloud Translate API:</span> translate from one language to another. \n",
    "- <span style=\"color:blue; font-weight:bold;\"><a href=\"https://cloud.google.com/video-intelligence/\">Cloud Video Intelligence API:</span> extract metadata from video files.\n",
    "\n",
    "<p align=\"center\">\n",
    "<img src=\"ieee-ompi/cloud-ai.png\" align=\"middle\" alt=\"Cloud AI.\" height=80% width=80% />\n",
    "</p>"
   ]
  }
 ],
 "metadata": {
  "kernelspec": {
   "display_name": "Python [conda env:pydl]",
   "language": "python",
   "name": "conda-env-pydl-py"
  },
  "language_info": {
   "codemirror_mode": {
    "name": "ipython",
    "version": 3
   },
   "file_extension": ".py",
   "mimetype": "text/x-python",
   "name": "python",
   "nbconvert_exporter": "python",
   "pygments_lexer": "ipython3",
   "version": "3.5.6"
  }
 },
 "nbformat": 4,
 "nbformat_minor": 2
}
