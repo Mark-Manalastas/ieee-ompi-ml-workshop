{
 "cells": [
  {
   "cell_type": "markdown",
   "metadata": {
    "nbpresent": {
     "id": "180f7798-0b7e-4aba-adf0-cc64adce9c9a"
    }
   },
   "source": [
    "# Machine Learning: An Overview\n",
    "\n",
    "Table of contents:\n",
    "\n",
    "- [Why Machine Learning?](#why-machine-learning)\n",
    "- [Types of Learning](#types-of-learning)\n",
    "- [Foundations of Machine Learning](#foundations-of-machine-learning)\n",
    "- [A Formal Model for Machine Learning Theory](#a-formal-model-for-machine-learning-theory)\n",
    "  - [Empirical Risk Minimization](#empirical-risk-minimization)\n",
    "- [How do we assess learning?](#how-do-we-assess-learning)\n",
    "- [Training and Validation data](#training-and-validation-data)\n",
    "- [The Bias/ Variance tradeoff](#the-bias-variance-tradeoff)\n",
    "- [Evaluation metrics](#evaluation-metrics)\n",
    "  - [Confusion Matrix](#confusion-matrix) \n",
    "  - [Root Mean Squared Error (RMSE)](#root-mean-squared-error)\n",
    "  - [Resampling](#resampling)\n",
    "\n",
    "<span style=\"color:blue; font-weight:bold\">Goal:</span> Teach the machine to learn based on the input they receive from the Environment.\n",
    "\n",
    "> Tom Mitchell (1997) defines machine learning as the ability for a machine to gain expertise on a particular task based on experience."
   ]
  },
  {
   "cell_type": "markdown",
   "metadata": {},
   "source": [
    "<a id=\"why-machine-learning\"></a>"
   ]
  },
  {
   "cell_type": "markdown",
   "metadata": {},
   "source": [
    "## Why Machine Learning?\n",
    "- <span style=\"color:blue; font-weight:bold\">Solving complexity:</span> Excels in building computational engines to solve task that cannot possibly be explicitly programmed.\n",
    "- Examples include natural language understanding, speech recognition and facial recognition."
   ]
  },
  {
   "cell_type": "markdown",
   "metadata": {},
   "source": [
    "<a id=\"types-of-learning\"></a>"
   ]
  },
  {
   "cell_type": "markdown",
   "metadata": {
    "nbpresent": {
     "id": "9b0c9b26-14d8-49d7-9e6d-2f667c451b36"
    }
   },
   "source": [
    "## Types of Learning\n",
    "Machine Learning can be categorized into (at least) three components based on its approach.\n",
    "\n",
    "The three predominant schemes of learning are:\n",
    "- Supervised,\n",
    "- Unsupervised, and\n",
    "- Reinforcement Learning\n",
    "\n",
    "**Supervised Learning**\n",
    "- Each data point is associated with a label\n",
    "- <span style=\"color:blue; font-weight:bold\">Goal:</span> Teach the computer using this labeled data.\n",
    "- <span style=\"color:blue; font-weight:bold\">Learning:</span> The computer learns the patterns from data.\n",
    "- <span style=\"color:blue; font-weight:bold\">Inference:</span> Makes decisions about \"unknown\" samples.\n",
    "\n",
    "<p align=\"center\">\n",
    "<img src=\"ieee-ompi/supervised_learning.png\" align=\"middle\" alt=\"Supervised Learning.\" height=50% width=50% />\n",
    "</p>\n",
    "\n",
    "**Unsupervised Learning**\n",
    "- No corresponding labels - no guidance.\n",
    "- <span style=\"color:blue; font-weight:bold\">Goal:</span> Computer attempts to determine data's unknown structure.\n",
    "- <span style=\"color:blue; font-weight:bold\">Scheme:</span> By \"grouping\" similar samples together adaptively.\n",
    "\n",
    "<p align=\"center\">\n",
    "<img src=\"ieee-ompi/unsupervised_learning.png\" align=\"middle\" alt=\"Unsupervised Learning.\" height=50% width=50% />\n",
    "</p>\n",
    "\n",
    "**Reinforcement Learning**\n",
    "- Reinforcement Learning: Agent interacts with an Environment.\n",
    "- <span style=\"color:blue; font-weight:bold\">Scheme:</span> A \"feedback configuration\".\n",
    "- <span style=\"color:blue; font-weight:bold\">Method:</span> Chooses an action from the set of actions.\n",
    "- <span style=\"color:blue; font-weight:bold\">Learning:</span> Based on the responses from the Environment.\n",
    "\n",
    "<p align=\"center\">\n",
    "<img src=\"ieee-ompi/reinforcement_learning.png\" align=\"middle\" alt=\"Reinforcement Learning.\" height=50% width=50% />\n",
    "</p>"
   ]
  },
  {
   "cell_type": "markdown",
   "metadata": {},
   "source": [
    "<a id=\"types-of-learning\"></a>"
   ]
  },
  {
   "cell_type": "markdown",
   "metadata": {},
   "source": [
    "## Foundations of Machine Learning\n",
    "The foundational disciplines that contribute to the field of machine learning are:\n",
    "\n",
    "- Statistics,\n",
    "- Mathematics,\n",
    "- The Theory of Computation, and to a considerable extent\n",
    "- Behavioral Psychology\n",
    "\n",
    "The diagram below visually shows the interaction between these fields.\n",
    "\n",
    "<p align=\"center\">\n",
    "<img src=\"ieee-ompi/foundations_ml.png\" align=\"middle\" alt=\"Foundations of Machine Learning.\" height=40% width=40% />\n",
    "</p>\n"
   ]
  },
  {
   "cell_type": "markdown",
   "metadata": {},
   "source": [
    "<a id=\"a-formal-model-for-machine-learning-theory\"></a>"
   ]
  },
  {
   "cell_type": "markdown",
   "metadata": {},
   "source": [
    "## A Formal Model for Machine Learning Theory\n",
    "\n",
    "<span style=\"color:blue; font-weight:bold;\">The learner’s input:</span>\n",
    "- <span style=\"font-weight:bold;\">Domain set:</span> An arbitrary set $\\mathcal{X}$ that characterizes a set of objects that we want to label. The domain points are represented as a vector of features and are also called instances, with $\\mathcal{X}$ the instance space.\n",
    "- <span style=\"font-weight:bold;\">Label set:</span> Let $\\mathcal{Y}$ denote our set of possible labels. For example, let the label set be restricted to a two-element set, {0, 1} or {−1, +1}.\n",
    "- <span style=\"font-weight:bold;\">Training data:</span> $S = ((x_1, y_1)...(x_m, y_m))$ is a finite sequence of pairs in $\\mathcal{X} \\times \\mathcal{Y}$ (i.e. a sequence of labeled domain points). The training data is the input that the learner has access to. $S$ is referred to as a training set.\n",
    "\n",
    "<span style=\"color:blue; font-weight:bold;\">The learner’s output:</span>\n",
    "The learner returns a prediction rule, $h : \\mathcal{X} \\rightarrow \\mathcal{Y}$. This function is also called a predictor, a hypothesis, or a classifier. The predictor is used to predict the label of new domain points.\n",
    "The notation $A(S)$ denotes the hypothesis that an algorithm, $A$, outputs, operating on the training set $S$.\n",
    "\n",
    "<span style=\"color:blue; font-weight:bold;\">The data generating model:</span>\n",
    "The training set are generated by some probability distribution that is \"unknown\" to the learner. The probability distribution over $\\mathcal{X}$ is denoted by $\\mathcal{D}$.\n",
    "In instances where the correct labelling is known, then each pair in the training data $\\mathcal{S}$ is generated by first sampling a point $x_i$ according to $\\mathcal{D}$ and then labeling it by $f$, where,  $\\;f : \\mathcal{X} \\rightarrow \\mathcal{Y}$, and that $y_i = f(x_i)$ for all $i$.\n",
    "\n",
    "<span style=\"color:blue; font-weight:bold;\">Measuring success:</span>\n",
    "The error of a classifier is the probability that it does not predict the correct label on a random data point generated by the underlying distribution.\n",
    "Therefore, the error of $h$ is the probability to draw a random instance $x$, according to the distribution $\\mathcal{D}$, such that $h(x)$ does not equal $f(x)$.\n",
    "\n",
    "The error of the prediction rule such $\\;h : \\mathcal{X} \\rightarrow \\mathcal{Y}\\;$ is the probability of randomly choosing an example $x$ for which $h(x) \\neq f(x)$:\n",
    "\n",
    "\\begin{equation}\n",
    "L_{\\mathcal{D},\\;f} (h) \\quad \\equiv \\quad \\mathbb{P}_{x\\sim D} [h(x) \\neq f(x)] \\quad \\equiv \\quad \\mathcal{D}(\\{x : h(x) \\neq f(x)\\}).\n",
    "\\end{equation}\n",
    "\n",
    "where,\n",
    "- The subscript $(\\mathcal{D}, f)$: indicates that the error is measured with respect to the probability distribution \\mathcal{D} and the correct labeling function $f$.\n",
    "- $L_{\\mathcal{D},\\;f} (h)$: is the generalization error, the risk, or the true error of $h$.\n",
    "\n",
    "<span style=\"color:blue; font-weight:bold;\">Note:</span>\n",
    "The learner is blind to the underlying distribution $\\mathcal{D}$ over the world and to the labeling function $f$."
   ]
  },
  {
   "cell_type": "markdown",
   "metadata": {},
   "source": [
    "<a id=\"empirical-risk-minimization\"></a>"
   ]
  },
  {
   "cell_type": "markdown",
   "metadata": {},
   "source": [
    "### Empirical Risk Minimization\n",
    "\n",
    "<p align=\"center\">\n",
    "<img src=\"ieee-ompi/learning_model.png\" align=\"middle\" alt=\"Learning Model.\"height=80% width=80%/>\n",
    "</p>\n",
    "\n",
    "The goal of the learning algorithm is to find the $h_S$ that minimizes the error with respect to the unknown $\\mathcal{D}$ and $f$. Since the learner is unaware of $\\mathcal{D}$ and $f$, the true error is not directly\n",
    "available to the learner.\n",
    "\n",
    "The training error (also called empirical error or empirical risk) is the error the classifier incurs over the training sample:\n",
    "\n",
    "\\begin{equation}\n",
    "L_S(h) = \\frac{|\\{i \\in [m] : h(x_i) \\neq y_i\\}|} {m}\n",
    "\\end{equation}\n",
    "\n",
    "where,\n",
    "- [m] is the total number of training examples.\n",
    "\n",
    "The hypothesis $h$ that minimizes the error $L_S(h)$ is called <span style=\"color:blue; font-weight:bold;\">Empirical Risk Minimization</span> or ERM."
   ]
  },
  {
   "cell_type": "markdown",
   "metadata": {},
   "source": [
    "<a id=\"how-do-we-assess-learning\"></a>"
   ]
  },
  {
   "cell_type": "markdown",
   "metadata": {
    "nbpresent": {
     "id": "368cb5d4-95e5-47dd-8126-0586936b20e9"
    }
   },
   "source": [
    "## How do we assess learning?\n",
    "Assume a teacher teaches a physics class for three months, and at the end of the lecture sessions, the teacher administers a test to ascertain if the student has learned.\n",
    "\n",
    "Let us consider two different sub-plots:\n",
    "1. The teacher tests the student with an exact word for word replica of questions that he used as examples while teaching.\n",
    "2. The teacher evaluates the student with an entirely different but similar problem set based on the principles taught in class.\n",
    "In which of the subplots can the teacher be confident that the student has learned?\n",
    "\n",
    "### Norms of Learning\n",
    "1. <span style=\"color:blue; font-weight:bold\">Memorization:</span> Memorization is the act of mastering and storing a pattern for future recollection. Therefore it is inaccurate to use training samples to carry out learning evaluation. In machine learning, this is also known as data snooping.\n",
    "2. <span style=\"color:blue; font-weight:bold\">Generalization:</span> The ability for the student to extrapolate using the principles taught in class to solve new examples is known as Generalization.\n",
    "Hence, we can conclude that learning is the ability to generalize to new cases."
   ]
  },
  {
   "cell_type": "markdown",
   "metadata": {},
   "source": [
    "<a id=\"training-and-validation-data\"></a>"
   ]
  },
  {
   "cell_type": "markdown",
   "metadata": {},
   "source": [
    "## Training and Validation data\n",
    "Again, the goal of machine learning is to predict or classify outcomes on unseen observations. Hence, the dataset is partitioned into:\n",
    "- <span style=\"color:blue; font-weight:bold;\">Training set:</span> for training the model.\n",
    "- <span style=\"color:blue; font-weight:bold;\">Validation set:</span> for fine-tuning the model parameters.\n",
    "- <span style=\"color:blue; font-weight:bold;\">Test set:</span> for assessing the true model performance on unseen examples.\n",
    "\n",
    "A common strategy is to split 60\\% of the dataset for training, 20% for validation, and the remaining 20% for testing. This is commonly known as the 60/20/20 rule.\n",
    "\n",
    "<p align=\"center\">\n",
    "<img src=\"ieee-ompi/train-test-validation-set.png\" align=\"middle\" alt=\"Dataset partitions.\"height=60% width=60%/>\n",
    "</p>"
   ]
  },
  {
   "cell_type": "markdown",
   "metadata": {},
   "source": [
    "<a id=\"the-bias-variance-tradeoff\"></a>"
   ]
  },
  {
   "cell_type": "markdown",
   "metadata": {},
   "source": [
    "## The Bias/ Variance tradeoff\n",
    "- The bias/ variance tradeoff is critical for assessing the performance of the machine learning model.\n",
    "- <span style=\"color:blue; font-weight:bold;\">Bias</span> is when the learning algorithm fails oversimplifies the learning problem and fails to generalize to new examples.\n",
    "- <span style=\"color:blue; font-weight:bold;\">Variance</span> is when the model \"closely\" learns the irreducible error of the dataset. This leads to high variability in the presence of an unseen observation.\n",
    "\n",
    "<p align=\"center\">\n",
    "<img src=\"ieee-ompi/bias-and-variance.png\" align=\"middle\" alt=\"Bias and variance.\"height=80% width=80%/>\n",
    "</p>"
   ]
  },
  {
   "cell_type": "markdown",
   "metadata": {},
   "source": [
    "The goal is to have a model that generalizes to new examples. Finding this middle ground is what is known as the bias/ variance tradeoff.\n",
    "\n",
    "<p align=\"center\">\n",
    "<img src=\"ieee-ompi/graph-overfit-underfit.png\" align=\"middle\" alt=\"Left: Good fit. Center: Underfit (bias). Right: Overfit (variance).\"/>\n",
    "</p>"
   ]
  },
  {
   "cell_type": "markdown",
   "metadata": {},
   "source": [
    "<a id=\"evaluation-metrics\"></a>"
   ]
  },
  {
   "cell_type": "markdown",
   "metadata": {},
   "source": [
    "## Evaluation metrics\n",
    "Evaluation metrics give us a way to measure the performance of our model. Let's see some common evaluation metrics.\n",
    "\n",
    "<span style=\"color:blue; font-weight:bold;\">Classification.</span>\n",
    "- Confusion matrix.\n",
    "- AUC-ROC (Area under ROC curve).\n",
    "\n",
    "<span style=\"color:blue; font-weight:bold;\">Regression</span>\n",
    "- Root Mean Squared Error (RMSE).\n",
    "- R-squared ($R^2$)."
   ]
  },
  {
   "cell_type": "markdown",
   "metadata": {},
   "source": [
    "<a id=\"confusion-matrix\"></a>"
   ]
  },
  {
   "cell_type": "markdown",
   "metadata": {},
   "source": [
    "### Confusion Matrix\n",
    "Confusion matrix is one of the more popular metrics for assessing the performance of a classification supervised machine learning model.\n",
    "\n",
    "<p align=\"center\">\n",
    "<img src=\"ieee-ompi/confusion_matrix.png\" align=\"middle\" alt=\"Confusion matrix.\" height=60% width=60%/>\n",
    "</p>"
   ]
  },
  {
   "cell_type": "markdown",
   "metadata": {},
   "source": [
    "<a id=\"root-mean-squared-error\"></a>"
   ]
  },
  {
   "cell_type": "markdown",
   "metadata": {},
   "source": [
    "### Root Mean Squared Error (RMSE)\n",
    "- Root Mean Squared Error shortened for RMSE is an important evaluation metric in supervised machine learning for regression problems.\n",
    "- The goal of RMSE is to calculate the error difference between the original targets and the predicted targets made by the learning algorithm.\n",
    "\n",
    "\\begin{equation}\n",
    "RMSE=\\sqrt{{\\displaystyle \\frac{\\sum_{i=1}^{n}{(y_{i}-{\\hat{y}}_{i})^{2}}}{{n}}}}.\n",
    "\\end{equation}"
   ]
  },
  {
   "cell_type": "markdown",
   "metadata": {},
   "source": [
    "<a id=\"resampling\"></a>"
   ]
  },
  {
   "cell_type": "markdown",
   "metadata": {},
   "source": [
    "### Resampling\n",
    "Resampling is another important concept for evaluating the performance of a supervised learning algorithm and it involves selecting a subset of the available dataset, training on that data subset and using the reminder of the data to evaluate the trained model. Methods for resampling include:\n",
    "- The validation set technique,\n",
    "- The Leave-one-out cross-validation technique (LOOCV), and\n",
    "- The k-fold cross-validation technique.\n",
    "\n",
    "**Validation set**\n",
    "<p align=\"center\">\n",
    "<img src=\"ieee-ompi/validation_set.png\" align=\"middle\" alt=\"Validation set\" height=60% width=60%/>\n",
    "</p>\n",
    "\n",
    "**k-Fold validation**\n",
    "<p align=\"center\">\n",
    "<img src=\"ieee-ompi/k-fold.png\" align=\"middle\" alt=\"k-fold validation\" height=80% width=80%/>\n",
    "</p>"
   ]
  }
 ],
 "metadata": {
  "kernelspec": {
   "display_name": "Python [conda env:pydl]",
   "language": "python",
   "name": "conda-env-pydl-py"
  },
  "language_info": {
   "codemirror_mode": {
    "name": "ipython",
    "version": 3
   },
   "file_extension": ".py",
   "mimetype": "text/x-python",
   "name": "python",
   "nbconvert_exporter": "python",
   "pygments_lexer": "ipython3",
   "version": "3.5.6"
  }
 },
 "nbformat": 4,
 "nbformat_minor": 2
}
