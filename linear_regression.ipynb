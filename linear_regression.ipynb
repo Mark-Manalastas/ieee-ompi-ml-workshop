{
 "cells": [
  {
   "cell_type": "markdown",
   "metadata": {},
   "source": [
    "# Linear Regression with TensorFlow\n",
    "\n",
    "Table of contents:\n",
    "\n",
    "- [Linear Regression Model](#linear-regression-model)\n",
    "- [Gradient Descent](#gradient-descent)\n",
    "- [Building a Linear Regression Model with TensorFlow](#building-a-linear-regression-model-with-tensorflow)\n",
    "  - [Importing the dataset](#importing-the-dataset)\n",
    "  - [Prepare the dataset for modeling](#prepare-the-dataset-for-modeling)\n",
    "  - [The Regression Model](#the-regression-model)\n",
    "  - [Plot model statistics](#plot-model-statistics)\n",
    "\n",
    "Linear regression is used to predict real-valued outputs. It is a parametric model and assumes a linear dependence/ relationship between the variables of the dataset.\n",
    "\n",
    "<div style=\"display: inline-block;width: 100%;\">\n",
    "<img src=\"ieee-ompi/LinReg-1.png\" style=\"float:left;\" alt=\"Dataset with real-valued outputs.\" height=40% width=40% />\n",
    "</div>"
   ]
  },
  {
   "cell_type": "markdown",
   "metadata": {},
   "source": [
    "<a id=\"linear-regression-model\"></a>"
   ]
  },
  {
   "cell_type": "markdown",
   "metadata": {},
   "source": [
    "## Linear Regression Model\n",
    "In a linear regression model, every variable (or feature vector) is assigned a specific weight (or parameter). We say that a weight parameterizes each feature in the dataset. The weights (or parameters) in the dataset are adjusted to find the optimal value (or constant) that scales the features to optimally approximate the values of the target (or output variable). The linear regression hypothesis is formally represented as:\n",
    "\n",
    "$$h_{\\theta}(x)=\\theta_0+\\theta_1 x_1+\\theta_2 x_2+...+\\theta_n x_n$$\n",
    "\n",
    "To illustrate, the image below is a plot of the first feature and the target variable . We are plotting just one feature against the output variable because it is easier to visualize using a 2-D scatter plot.\n",
    "\n",
    "<div style=\"display: inline-block;width: 100%;\">\n",
    "<img src=\"ieee-ompi/linear-scatter.png\" style=\"float:left;\" alt=\"Linear regression scatter plot.\" height=50% width=50% />\n",
    "</div>\n",
    "\n",
    "<span style=\"color:blue; font-weight:bold\">The goal of the linear model:</span> is to find a line (or hyper-plane) that gives the best approximation or the best fit to the data points. In other words, we want to find a value for the weights $\\theta_0$ and $\\theta_1$ so that our hypothesis $h_{\\theta}(x)$ is close to the target, $y$ for the example set. Hence the cost function can be defined as:\n",
    "\n",
    "\\begin{equation}\n",
    "J(\\theta) = \\frac{1}{2m} \\sum_{i=1}^{m} (h_\\theta(x^{(i)}) - y^{(i)})^2\n",
    "\\end{equation}\n",
    "\n",
    "\n",
    "\n",
    "When found, that line will look like the blue line in the image below.\n",
    "<div style=\"display: inline-block;width: 100%;\">\n",
    "<img src=\"ieee-ompi/linear-scatter-regression.png\" style=\"float:left;\" alt=\"Scatter plot with the regression line.\" height=50% width=50% />\n",
    "</div>"
   ]
  },
  {
   "cell_type": "markdown",
   "metadata": {},
   "source": [
    "<a id=\"gradient-descent\"></a>"
   ]
  },
  {
   "cell_type": "markdown",
   "metadata": {},
   "source": [
    "## Gradient Descent\n",
    "Gradient descent is an optimization algorithm that is used to minimize the cost function. Gradient descent attempts to find an approximate solution or the global minimum of the function space by moving iteratively in step along the path of steepest descent until a terminating condition is reached that stops the loop or the algorithm converges. It is expressed as:\n",
    "\n",
    "\\begin{equation}\n",
    "\\theta_j = \\theta_j - \\alpha \\frac{\\partial}{\\partial \\theta_j} J(\\theta)\n",
    "\\end{equation}\n",
    "\n",
    "where,\n",
    "- $\\theta$: is the parameter of the model\n",
    "- $\\alpha$: is the learning rate, which controls the step-size of the gradient update\n",
    "\n",
    "An illusration of Gradient descent finding the global minimum of a convex function is shown below:\n",
    "<div style=\"display: inline-block;width: 100%;\">\n",
    "<img src=\"ieee-ompi/contour-figure-gradient-descentb.png\" style=\"float:left;\" alt=\"Gradient Descent.\" height=50% width=50% />\n",
    "</div>"
   ]
  },
  {
   "cell_type": "markdown",
   "metadata": {},
   "source": [
    "<a id=\"building-a-linear-regression-model-with-tensorflow\"></a>"
   ]
  },
  {
   "cell_type": "markdown",
   "metadata": {},
   "source": [
    "## Building a Linear Regression Model with TensorFlow"
   ]
  },
  {
   "cell_type": "code",
   "execution_count": 16,
   "metadata": {},
   "outputs": [],
   "source": [
    "# import libraries\n",
    "import tensorflow as tf\n",
    "import numpy as np\n",
    "import pandas as pd\n",
    "from sklearn.model_selection import train_test_split\n",
    "from sklearn.preprocessing import StandardScaler"
   ]
  },
  {
   "cell_type": "markdown",
   "metadata": {},
   "source": [
    "<a id=\"importing-the-dataset\"></a>"
   ]
  },
  {
   "cell_type": "markdown",
   "metadata": {},
   "source": [
    "### Importing the dataset\n",
    "The dataset used in this example is from the [Challenger USA Space Shuttle O-Ring Data Set* from the UCI Machine Learning Repository](http://archive.ics.uci.edu/ml/datasets/Challenger+USA+Space+Shuttle+O-Ring). The dataset contains 23 observations and 5 variables named:\n",
    "- Number of O-rings at risk on a given flight \n",
    "- Number experiencing thermal distress \n",
    "- Launch temperature (degrees F)\n",
    "- Leak-check pressure (psi)\n",
    "- Temporal order of flight\n",
    "\n",
    "The task is to predict the number of O-rings that will experience thermal distress for a given flight when the launch temperature is below freezing."
   ]
  },
  {
   "cell_type": "code",
   "execution_count": 2,
   "metadata": {},
   "outputs": [],
   "source": [
    "# import dataset\n",
    "data = np.loadtxt(\"data/space-shuttle/o-ring-erosion-or-blowby.data\")"
   ]
  },
  {
   "cell_type": "code",
   "execution_count": 3,
   "metadata": {},
   "outputs": [
    {
     "data": {
      "text/plain": [
       "array([[  6.,   0.,  66.,  50.,   1.],\n",
       "       [  6.,   1.,  70.,  50.,   2.],\n",
       "       [  6.,   0.,  69.,  50.,   3.],\n",
       "       [  6.,   0.,  68.,  50.,   4.],\n",
       "       [  6.,   0.,  67.,  50.,   5.],\n",
       "       [  6.,   0.,  72.,  50.,   6.],\n",
       "       [  6.,   0.,  73., 100.,   7.],\n",
       "       [  6.,   0.,  70., 100.,   8.],\n",
       "       [  6.,   1.,  57., 200.,   9.],\n",
       "       [  6.,   1.,  63., 200.,  10.]])"
      ]
     },
     "execution_count": 3,
     "metadata": {},
     "output_type": "execute_result"
    }
   ],
   "source": [
    "# preview data\n",
    "data[:10,:]"
   ]
  },
  {
   "cell_type": "code",
   "execution_count": 4,
   "metadata": {},
   "outputs": [
    {
     "data": {
      "text/plain": [
       "(23, 5)"
      ]
     },
     "execution_count": 4,
     "metadata": {},
     "output_type": "execute_result"
    }
   ],
   "source": [
    "# number of rows and columns\n",
    "data.shape"
   ]
  },
  {
   "cell_type": "markdown",
   "metadata": {},
   "source": [
    "<a id=\"prepare-the-dataset-for-modeling\"></a>"
   ]
  },
  {
   "cell_type": "markdown",
   "metadata": {},
   "source": [
    "### Prepare the dataset for modeling"
   ]
  },
  {
   "cell_type": "code",
   "execution_count": 5,
   "metadata": {},
   "outputs": [],
   "source": [
    "# separate features and target\n",
    "X = data[:,1:]\n",
    "y = data[:,0]"
   ]
  },
  {
   "cell_type": "code",
   "execution_count": 6,
   "metadata": {},
   "outputs": [
    {
     "data": {
      "text/plain": [
       "array([[  0.,  66.,  50.,   1.],\n",
       "       [  1.,  70.,  50.,   2.],\n",
       "       [  0.,  69.,  50.,   3.],\n",
       "       [  0.,  68.,  50.,   4.],\n",
       "       [  0.,  67.,  50.,   5.],\n",
       "       [  0.,  72.,  50.,   6.],\n",
       "       [  0.,  73., 100.,   7.],\n",
       "       [  0.,  70., 100.,   8.],\n",
       "       [  1.,  57., 200.,   9.],\n",
       "       [  1.,  63., 200.,  10.]])"
      ]
     },
     "execution_count": 6,
     "metadata": {},
     "output_type": "execute_result"
    }
   ],
   "source": [
    "# sample of features\n",
    "X[:10,:]"
   ]
  },
  {
   "cell_type": "code",
   "execution_count": 7,
   "metadata": {},
   "outputs": [
    {
     "data": {
      "text/plain": [
       "array([6., 6., 6., 6., 6., 6., 6., 6., 6., 6.])"
      ]
     },
     "execution_count": 7,
     "metadata": {},
     "output_type": "execute_result"
    }
   ],
   "source": [
    "# targets\n",
    "y[:10]"
   ]
  },
  {
   "cell_type": "code",
   "execution_count": 8,
   "metadata": {},
   "outputs": [],
   "source": [
    "# split into training and test sets\n",
    "X_train, X_test, y_train, y_test = train_test_split(X, y, shuffle=True, test_size=0.15)"
   ]
  },
  {
   "cell_type": "code",
   "execution_count": 9,
   "metadata": {},
   "outputs": [],
   "source": [
    "# standardize the dataset\n",
    "scaler = StandardScaler().fit(X_train)\n",
    "X_train = scaler.transform(X_train)"
   ]
  },
  {
   "cell_type": "code",
   "execution_count": 10,
   "metadata": {
    "scrolled": true
   },
   "outputs": [
    {
     "data": {
      "text/plain": [
       "array([[ 1.2070197 , -0.10715528,  0.83510858, -0.05345848],\n",
       "       [-0.55708601,  1.3735359 ,  0.83510858,  0.09164311],\n",
       "       [-0.55708601, -0.66241448, -1.32858183, -0.92406806],\n",
       "       [-0.55708601, -0.29224168, -1.32858183, -1.21427126],\n",
       "       [-0.55708601,  1.9287951 ,  0.83510858,  0.96225269],\n",
       "       [ 1.2070197 , -0.10715528, -1.32858183, -1.35937285],\n",
       "       [-0.55708601,  0.44810391, -0.60735169, -0.63386487],\n",
       "       [-0.55708601, -0.10715528, -0.60735169, -0.48876327],\n",
       "       [-0.55708601,  0.26301751, -1.32858183, -0.77896647],\n",
       "       [-0.55708601, -0.66241448,  0.83510858,  0.23674471]])"
      ]
     },
     "execution_count": 10,
     "metadata": {},
     "output_type": "execute_result"
    }
   ],
   "source": [
    "# preview standardized feature matrix\n",
    "X_train[:10,:]"
   ]
  },
  {
   "cell_type": "markdown",
   "metadata": {},
   "source": [
    "<a id=\"the-regression-model\"></a>"
   ]
  },
  {
   "cell_type": "markdown",
   "metadata": {},
   "source": [
    "### The Regression Model"
   ]
  },
  {
   "cell_type": "markdown",
   "metadata": {},
   "source": [
    "#### Build the Computational Graph"
   ]
  },
  {
   "cell_type": "code",
   "execution_count": 100,
   "metadata": {},
   "outputs": [],
   "source": [
    "# parameters\n",
    "learning_rate = 0.01\n",
    "training_epochs = 30"
   ]
  },
  {
   "cell_type": "code",
   "execution_count": 89,
   "metadata": {},
   "outputs": [],
   "source": [
    "# reshape targets to become column vector\n",
    "y_train = np.reshape(y_train, [-1, 1])\n",
    "y_test = np.reshape(y_test, [-1, 1])"
   ]
  },
  {
   "cell_type": "code",
   "execution_count": 101,
   "metadata": {},
   "outputs": [],
   "source": [
    "# data placeholders\n",
    "X = tf.placeholder(shape=[None, X_train.shape[1]], dtype=tf.float64) \n",
    "y = tf.placeholder(shape=[None, 1], dtype=tf.float64) "
   ]
  },
  {
   "cell_type": "code",
   "execution_count": 102,
   "metadata": {},
   "outputs": [],
   "source": [
    "# weight\n",
    "W = tf.Variable(tf.random.normal(shape=[4,1], dtype=tf.float64))\n",
    "# bias term\n",
    "b = tf.Variable(tf.random.normal(shape=[1,1], dtype=tf.float64))"
   ]
  },
  {
   "cell_type": "code",
   "execution_count": 103,
   "metadata": {},
   "outputs": [],
   "source": [
    "# hypothesis\n",
    "h_theta = tf.add(b, tf.matmul(X_train, W))"
   ]
  },
  {
   "cell_type": "code",
   "execution_count": 104,
   "metadata": {},
   "outputs": [],
   "source": [
    "# cost function\n",
    "cost = tf.reduce_mean(tf.square(h_theta - y_train))"
   ]
  },
  {
   "cell_type": "code",
   "execution_count": 105,
   "metadata": {},
   "outputs": [],
   "source": [
    "# evalution metric - rmse\n",
    "rmse = tf.metrics.root_mean_squared_error(labels = y_train, predictions = h_theta)"
   ]
  },
  {
   "cell_type": "code",
   "execution_count": 106,
   "metadata": {},
   "outputs": [],
   "source": [
    "# Gradient Descent\n",
    "optimizer = tf.train.GradientDescentOptimizer(learning_rate).minimize(cost)"
   ]
  },
  {
   "cell_type": "code",
   "execution_count": 117,
   "metadata": {},
   "outputs": [],
   "source": [
    "# initialize global variables\n",
    "init = [tf.global_variables_initializer(),\n",
    "        tf.local_variables_initializer()]"
   ]
  },
  {
   "cell_type": "markdown",
   "metadata": {},
   "source": [
    "#### Execute the Session"
   ]
  },
  {
   "cell_type": "code",
   "execution_count": 123,
   "metadata": {},
   "outputs": [
    {
     "name": "stdout",
     "output_type": "stream",
     "text": [
      "Epoch 10 : cost = 0.025435065128297952 W = [[-0.04074439]\n",
      " [-0.04880608]\n",
      " [ 0.1140739 ]\n",
      " [-0.07860312]] b = [[5.85910746]]\n",
      "rmse = 0.15948375\n",
      "Epoch 20 : cost = 0.0009101336501019428 W = [[-0.00395135]\n",
      " [-0.00249376]\n",
      " [ 0.05846888]\n",
      " [-0.05557776]] b = [[5.99696721]]\n",
      "rmse = 0.11477195\n",
      "Epoch 30 : cost = 0.00031322249123275493 W = [[ 9.59326330e-05]\n",
      " [ 9.28610921e-04]\n",
      " [ 3.40732638e-02]\n",
      " [-3.42440470e-02]] b = [[5.99993472]]\n",
      "rmse = 0.094266325\n"
     ]
    }
   ],
   "source": [
    "# execute tf Session \n",
    "with tf.Session() as sess: \n",
    "    # initializing the variables \n",
    "    sess.run(init) \n",
    "    \n",
    "    # capture statistics for plotting\n",
    "    plot_stats = {'epoch': [], 'train_cost': [], 'test_cost': []}\n",
    "    \n",
    "    # iterating through all the epochs \n",
    "    for epoch in range(training_epochs): \n",
    "          \n",
    "        # feed each data point into the optimizer using the feed dictionary\n",
    "        for (x_i, y_i) in zip(X_train, y_train):\n",
    "            x_i = np.reshape(x_i, [-1,1]).T\n",
    "            y_i = np.reshape(y_i, [-1,1]).T\n",
    "            sess.run(optimizer, feed_dict = {X: x_i, y: y_i})\n",
    "          \n",
    "        # display the result after 10 epochs \n",
    "        if (epoch + 1) % 10 == 0:\n",
    "            # calculate the cost \n",
    "            c_train = sess.run(cost, feed_dict = {X: X_train, y: y_train})\n",
    "            c_test = sess.run(cost, feed_dict = {X: X_test, y: y_test})\n",
    "            print(\"Epoch\", (epoch + 1), \": cost =\", c_train, \"W =\", sess.run(W),\n",
    "                  \"b =\", sess.run(b)) \n",
    "            print(\"rmse =\", sess.run(rmse)[1])\n",
    "            \n",
    "            # collect stats\n",
    "            plot_stats['epoch'].append((epoch + 1))\n",
    "            plot_stats['train_cost'].append(c_train)\n",
    "            plot_stats['test_cost'].append(c_test)\n",
    "      \n",
    "    # final values after training\n",
    "    training_cost = sess.run(cost, feed_dict ={X: X_train, y: y_train}) \n",
    "    weight = sess.run(W)\n",
    "    bias = sess.run(b)"
   ]
  },
  {
   "cell_type": "markdown",
   "metadata": {},
   "source": [
    "<a id=\"plot-model-statistics\"></a>"
   ]
  },
  {
   "cell_type": "markdown",
   "metadata": {},
   "source": [
    "### Plot model statistics"
   ]
  },
  {
   "cell_type": "code",
   "execution_count": 125,
   "metadata": {},
   "outputs": [],
   "source": [
    "# import plotting library\n",
    "import matplotlib.pyplot as plt"
   ]
  },
  {
   "cell_type": "code",
   "execution_count": 153,
   "metadata": {},
   "outputs": [
    {
     "data": {
      "image/png": "[encoded data removed]",
      "text/plain": [
       "<Figure size 432x288 with 1 Axes>"
      ]
     },
     "metadata": {
      "needs_background": "light"
     },
     "output_type": "display_data"
    }
   ],
   "source": [
    "plt.plot(plot_stats['epoch'], plot_stats['train_cost'], 'o-')\n",
    "plt.xlabel('epoch')\n",
    "plt.ylabel('train cost')\n",
    "plt.title('Training loss per epoch')\n",
    "plt.show()"
   ]
  },
  {
   "cell_type": "code",
   "execution_count": 150,
   "metadata": {},
   "outputs": [
    {
     "data": {
      "image/png": "[encoded data removed]",
      "text/plain": [
       "<Figure size 432x288 with 1 Axes>"
      ]
     },
     "metadata": {
      "needs_background": "light"
     },
     "output_type": "display_data"
    }
   ],
   "source": [
    "plt.plot(plot_stats['epoch'], plot_stats['test_cost'], 'ro-')\n",
    "plt.xlabel('epoch')\n",
    "plt.ylabel('eval cost')\n",
    "plt.title('Evaluation loss per epoch')\n",
    "plt.show()"
   ]
  }
 ],
 "metadata": {
  "kernelspec": {
   "display_name": "Python [conda env:pydl]",
   "language": "python",
   "name": "conda-env-pydl-py"
  },
  "language_info": {
   "codemirror_mode": {
    "name": "ipython",
    "version": 3
   },
   "file_extension": ".py",
   "mimetype": "text/x-python",
   "name": "python",
   "nbconvert_exporter": "python",
   "pygments_lexer": "ipython3",
   "version": "3.5.6"
  }
 },
 "nbformat": 4,
 "nbformat_minor": 2
}
