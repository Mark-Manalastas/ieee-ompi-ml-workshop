{
 "cells": [
  {
   "cell_type": "markdown",
   "metadata": {},
   "source": [
    "# Creating an account on GCP\n",
    "\n",
    "A GCP account gives access to all of the platform's infrastructure and services. For a new account, trial credits is awarded to be spent over a period of 12 months. This offer allows one to explore the different features and services of Google's cloud offering.\n",
    "\n",
    "<span style=\"color:green; font-weight:bold\">To register an account requires a valid credit card to validate that it is an authentic user, as opposed to a robot. However, the credit card won't be charged after the trial ends, except Google is authorized to do so.</span>\n",
    "<br /><br />\n",
    "\n",
    "<div style=\"display: inline-block;width: 100%;\">\n",
    "<img src=\"ieee-ompi/no-credit-card.png\" style=\"float:left;\" alt=\"No credit card needed.\" height=\"40%\" width=\"40%\" />\n",
    "</div>"
   ]
  },
  {
   "cell_type": "markdown",
   "metadata": {},
   "source": [
    "## Creating an Account\n",
    "1. Go to https://cloud.google.com/ to open an account\n",
    "   \n",
    "<div style=\"display: inline-block;width: 100%;\">\n",
    "<img src=\"ieee-ompi/GCP-login-page.png\" style=\"float:left;\" alt=\"Google Cloud Platform Login Page.\" height=\"60%\" width=\"60%\" />\n",
    "</div>\n",
    "\n",
    "2. Fill in the necessary identity, address and credit card details.\n",
    "\n",
    "3. After account creation, we're presented with the Welcome to GCP page.\n",
    "<div style=\"display: inline-block;width: 100%;\">\n",
    "<img src=\"ieee-ompi/welcome-to-GCP.png\" style=\"float:left;\" alt=\"Welcome to GCP.\" height=60% width=60% />\n",
    "</div>\n",
    "\n",
    "4. Click on the triple-dash in the top-right corner of the page <span style=\"color:green\">(1)</span>, then click on <span style=\"color:green\">Home (2)</span> to open the Google Cloud Platform Dashboard.\n",
    "<div style=\"display: inline-block;width: 100%;\">\n",
    "<img src=\"ieee-ompi/GCP-dashboard.png\" style=\"float:left;\" alt=\"GCP Dashboard.\" height=60% width=60% />\n",
    "</div>\n",
    "\n",
    "The Cloud Dashboard provides a birds-eye summary of the project such as the current billing rate and other resource usage statistics. The activity tab to the right gives a breakdown of the resource actions performed on the account. This feature is useful when building an audit trail of events."
   ]
  }
 ],
 "metadata": {
  "kernelspec": {
   "display_name": "Python [conda env:pydl]",
   "language": "python",
   "name": "conda-env-pydl-py"
  },
  "language_info": {
   "codemirror_mode": {
    "name": "ipython",
    "version": 3
   },
   "file_extension": ".py",
   "mimetype": "text/x-python",
   "name": "python",
   "nbconvert_exporter": "python",
   "pygments_lexer": "ipython3",
   "version": "3.5.6"
  }
 },
 "nbformat": 4,
 "nbformat_minor": 2
}
