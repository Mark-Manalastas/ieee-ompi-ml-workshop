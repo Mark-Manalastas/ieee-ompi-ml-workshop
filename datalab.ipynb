{
 "cells": [
  {
   "cell_type": "markdown",
   "metadata": {},
   "source": [
    "# Prototyping with Google Cloud Datalab\n",
    "\n",
    "Table of contents:\n",
    "\n",
    "- [Enable Google Compute Engine and Cloud Source Repositories APIs](#enable-google-compute-engine-and-cloud-source-repositories-apis)\n",
    "- [Launch a Datalab Instance from gcloud](#launch-a-datalab-instance-from-gcloud)\n",
    "- [Shutting down/ Deleting the instance](#shutting-down--deleting-the-instance)\n",
    "\n",
    "Google Cloud datalab provides an interactive environment for model prototyping."
   ]
  },
  {
   "cell_type": "markdown",
   "metadata": {},
   "source": [
    "<a id=\"enable-google-compute-engine-and-cloud-source-repositories-apis\"></a>"
   ]
  },
  {
   "cell_type": "markdown",
   "metadata": {},
   "source": [
    "## Enable Google Compute Engine and Cloud Source Repositories APIs\n",
    "On a new account, enable Google Compute API and then the Cloud Source Repositories API before launching datalab.\n",
    "\n",
    "### APIs & Services Dashboard\n",
    "<div style=\"display: inline-block;width: 100%;\">\n",
    "<img src=\"ieee-ompi/api-dashboard.png\" style=\"float:left;\" alt=\"APIs & Services Dashboard.\" height=60% width=60% />\n",
    "</div>\n",
    "\n",
    "### Search for Compute Engine APIs\n",
    "<div style=\"display: inline-block;width: 100%;\">\n",
    "<img src=\"ieee-ompi/enable-api.png\" style=\"float:left;\" alt=\"Search for Compute Engine APIs.\" height=60% width=60% />\n",
    "</div>\n",
    "\n",
    "### Enable Compute API\n",
    "<div style=\"display: inline-block;width: 100%;\">\n",
    "<img src=\"ieee-ompi/enable-compute-api.png\" style=\"float:left;\" alt=\"Enable Compute API.\" height=60% width=60% />\n",
    "</div>\n",
    "\n",
    "### Search for Cloud Source Repositories APIs\n",
    "<div style=\"display: inline-block;width: 100%;\">\n",
    "<img src=\"ieee-ompi/find-cloud-source-repo.png\" style=\"float:left;\" alt=\"Search for Cloud Source Repositories APIs.\" height=60% width=60% />\n",
    "</div>\n",
    "\n",
    "### Enable Cloud Source Repositories API\n",
    "<div style=\"display: inline-block;width: 100%;\">\n",
    "<img src=\"ieee-ompi/enable-cloud-source-repo.png\" style=\"float:left;\" alt=\"Enable Cloud Source Repositories API.\" height=60% width=60% />\n",
    "</div>"
   ]
  },
  {
   "cell_type": "markdown",
   "metadata": {},
   "source": [
    "<a id=\"launch-a-datalab-instance-from-gcloud\"></a>"
   ]
  },
  {
   "cell_type": "markdown",
   "metadata": {},
   "source": [
    "## Launch a Datalab Instance from gcloud\n",
    "To launch a datalab instance,\n",
    "1. Open gcloud shell\n",
    "2. Create a datalab instance by running the command <span style=\"color:red; font-family: Courier New,Courier,Lucida Sans Typewriter,Lucida Typewriter,monospace\">datalab create instance-name</span>\n",
    "3. Accept all the defaults as the instance is provisioned\n",
    "4. Press <span style=\"color:green; font-family: Courier New,Courier,Lucida Sans Typewriter,Lucida Typewriter,monospace\">Enter</span> twice when asked to generate a passphrase.\n",
    "5. Click on the <span style=\"color:green;\">Web Preview</span> at top-right of the gcloud window, click <span style=\"color:green;\">Change port</span> and selet <span style=\"color:red;\">Port 8081</span>, to start using Datalab.\n",
    "\n",
    "**Note:** The <span style=\"color:red;\">instance-name</span> must begin with a lowercase letter, and can have up to 63 lowercase letters, mixed with numbers and hyphens. The instance-name cannot end with a hyphen.\n",
    "\n",
    "### Open Cloud Shell\n",
    "<div style=\"display: inline-block;width: 100%;\">\n",
    "<img src=\"ieee-ompi/activate-cloud-shell.png\" style=\"float:left;\" alt=\"Open Cloud Shell.\" height=60% width=60% />\n",
    "</div>\n",
    "\n",
    "### Create Datalab Instance\n",
    "<div style=\"display: inline-block;width: 100%;\">\n",
    "<img src=\"ieee-ompi/create-datalab.png\" style=\"float:left;\" alt=\"Create Datalab Instance.\" height=60% width=60% />\n",
    "</div>\n",
    "\n",
    "### Select Zone\n",
    "<div style=\"display: inline-block;width: 100%;\">\n",
    "<img src=\"ieee-ompi/select-zone.png\" style=\"float:left;\" alt=\"Select Zone.\" height=60% width=60% />\n",
    "</div>\n",
    "\n",
    "### Generate SSH keys\n",
    "<div style=\"display: inline-block;width: 100%;\">\n",
    "<img src=\"ieee-ompi/11.press-Y.png\" style=\"float:left;\" alt=\"Generate SSH keys.\" height=60% width=60% />\n",
    "</div>\n",
    "\n",
    "### Select Port 8081\n",
    "<div style=\"display: inline-block;width: 100%;\">\n",
    "<img src=\"ieee-ompi/select-port-8081.png\" style=\"float:left;\" alt=\"Select Port 8081.\" height=60% width=60% />\n",
    "</div>\n",
    "\n",
    "### Datalab Interface\n",
    "<div style=\"display: inline-block;width: 100%;\">\n",
    "<img src=\"ieee-ompi/datalab-interface.png\" style=\"float:left;\" alt=\"Datalab Interface.\" height=60% width=60% />\n",
    "</div>\n",
    "\n",
    "### Open a notebook\n",
    "To open a new notebook. Click on <span style=\"color:red;\">New Notebook</span> at the top-left hand corner of the instance page.\n",
    "\n",
    "<div style=\"display: inline-block;width: 100%;\">\n",
    "<img src=\"ieee-ompi/new-notebook.png\" style=\"float:left;\" alt=\"Open a notebook.\" height=60% width=60% />\n",
    "</div>"
   ]
  },
  {
   "cell_type": "markdown",
   "metadata": {},
   "source": [
    "<a id=\"shutting-down--deleting-the-instance\"></a>"
   ]
  },
  {
   "cell_type": "markdown",
   "metadata": {},
   "source": [
    "## Shutting down/ Deleting the instance\n",
    "To shut down the instance,\n",
    "1. Open the Cloud Compute Dashboard\n",
    "2. Click the check-box to select the instance.\n",
    "3. Click <span style=\"color:red;\">Stop</span> to shut down the instance. Shutting down the instance prevents the user from incurring unnecessary cost when the instance is not in use.\n",
    "4. Click <span style=\"color:red;\">Delete</span> to delete the instance and detach the disk allocated to the compute engine. Only use this action when completely done with all work on that instance. This action is irreversible.\n",
    "\n",
    "### Open Cloud Compute Dashboard\n",
    "<div style=\"display: inline-block;width: 100%;\">\n",
    "<img src=\"ieee-ompi/compute-IEEE-dashboard.png\" style=\"float:left;\" alt=\"Open Cloud Compute Dashboard.\" height=60% width=60% />\n",
    "</div>\n",
    "\n",
    "### Shut-down Datalab Instance\n",
    "<div style=\"display: inline-block;width: 100%;\">\n",
    "<img src=\"ieee-ompi/stop-datalab.png\" style=\"float:left;\" alt=\"Shut-down Datalab Instance.\" height=60% width=60% />\n",
    "</div>\n",
    "\n",
    "### Delete Datalab Instance\n",
    "<div style=\"display: inline-block;width: 100%;\">\n",
    "<img src=\"ieee-ompi/delete-datalab.png\" style=\"float:left;\" alt=\"Delete Datalab Instance.\" height=60% width=60% />\n",
    "</div>"
   ]
  }
 ],
 "metadata": {
  "kernelspec": {
   "display_name": "Python [conda env:pydl]",
   "language": "python",
   "name": "conda-env-pydl-py"
  },
  "language_info": {
   "codemirror_mode": {
    "name": "ipython",
    "version": 3
   },
   "file_extension": ".py",
   "mimetype": "text/x-python",
   "name": "python",
   "nbconvert_exporter": "python",
   "pygments_lexer": "ipython3",
   "version": "3.5.6"
  }
 },
 "nbformat": 4,
 "nbformat_minor": 2
}
