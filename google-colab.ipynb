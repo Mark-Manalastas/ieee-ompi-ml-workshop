{
 "cells": [
  {
   "cell_type": "markdown",
   "metadata": {},
   "source": [
    "# Working with Google Colaboratory\n",
    "\n",
    "Table of contents:\n",
    "\n",
    "- [Starting out with Colab](#starting-out-with-colab)\n",
    "- [Change Runtime Settings](#change-runtime-settings)\n",
    "- [Storing Notebooks](#storing-notebooks)\n",
    "- [Uploading Notebooks](#uploading-notebooks)\n",
    "\n",
    "Google Colaboratory more commonly referred to as \"Google Colab\" or just simply \"Colab\" is a research project for prototyping Machine learning models on powerful hardware options such as GPUs and TPUs. It is a serverless Jupyter notebook environment."
   ]
  },
  {
   "cell_type": "markdown",
   "metadata": {},
   "source": [
    "<a id=\"starting-out-with-colab\"></a>"
   ]
  },
  {
   "cell_type": "markdown",
   "metadata": {},
   "source": [
    "## Starting out with Colab\n",
    "1. Go to https://colab.research.google.com/\n",
    "<div style=\"display: inline-block;width: 100%;\">\n",
    "<img src=\"ieee-ompi/colab_home.png\" style=\"float:left;\" alt=\"Colab Home.\" height=70% width=70% />\n",
    "</div>\n",
    "2. Open a Python 3 Notebook.\n",
    "<div style=\"display: inline-block;width: 100%;\">\n",
    "<img src=\"ieee-ompi/python3_notebook.png\" style=\"float:left;\" alt=\"Python 3 Notebook.\" height=70% width=70% />\n",
    "</div>"
   ]
  },
  {
   "cell_type": "markdown",
   "metadata": {},
   "source": [
    "## Change Runtime Settings\n",
    "1. Go to Runtime > Change Runtime time.\n",
    "<div style=\"display: inline-block;width: 100%;\">\n",
    "<img src=\"ieee-ompi/colab_runtime.png\" style=\"float:left;\" alt=\"Colab Runtime.\" height=30% width=30% />\n",
    "</div>\n",
    "\n",
    "2. Here, the options exit to change the Python runtime and harware accelerator to a GPU or TPU.\n",
    "<div style=\"display: inline-block;width: 100%;\">\n",
    "<img src=\"ieee-ompi/change_runtime.png\" style=\"float:left;\" alt=\"Change Runtime.\" height=40% width=40% />\n",
    "</div>"
   ]
  },
  {
   "cell_type": "markdown",
   "metadata": {},
   "source": [
    "## Storing Notebooks\n",
    "1. Notebooks on Colab are stored on Google Drive.\n",
    "2. Notebooks can also be saved to Github or as a Github Gist.\n",
    "3. They can be downloaded to the local machine.\n",
    "\n",
    "<div style=\"display: inline-block;width: 100%;\">\n",
    "<img src=\"ieee-ompi/storing_notebooks.png\" style=\"float:left;\" alt=\"Storing Notebooks.\" height=40% width=40% />\n",
    "</div>"
   ]
  },
  {
   "cell_type": "markdown",
   "metadata": {},
   "source": [
    "## Uploading Notebooks\n",
    "Notebooks can be uploaded from Google Drive, Github or the local machine.\n",
    "\n",
    "<div style=\"display: inline-block;width: 100%;\">\n",
    "<img src=\"ieee-ompi/opening_notebooks.png\" style=\"float:left;\" alt=\"Opening Notebooks.\" height=70% width=70% />\n",
    "</div>"
   ]
  }
 ],
 "metadata": {
  "kernelspec": {
   "display_name": "Python [conda env:pydl]",
   "language": "python",
   "name": "conda-env-pydl-py"
  },
  "language_info": {
   "codemirror_mode": {
    "name": "ipython",
    "version": 3
   },
   "file_extension": ".py",
   "mimetype": "text/x-python",
   "name": "python",
   "nbconvert_exporter": "python",
   "pygments_lexer": "ipython3",
   "version": "3.5.6"
  }
 },
 "nbformat": 4,
 "nbformat_minor": 2
}
